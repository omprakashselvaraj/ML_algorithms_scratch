{
  "nbformat": 4,
  "nbformat_minor": 0,
  "metadata": {
    "colab": {
      "provenance": []
    },
    "kernelspec": {
      "name": "python3",
      "display_name": "Python 3"
    },
    "language_info": {
      "name": "python"
    }
  },
  "cells": [
    {
      "cell_type": "code",
      "execution_count": 27,
      "metadata": {
        "id": "crfPG--csEol"
      },
      "outputs": [],
      "source": [
        "import numpy as np\n",
        "from sklearn.model_selection import train_test_split\n",
        "from sklearn import datasets\n",
        "import matplotlib.pyplot as plt\n",
        "import warnings\n",
        "warnings.filterwarnings('ignore')"
      ]
    },
    {
      "cell_type": "code",
      "source": [
        "class LogisticRegression():\n",
        "  def __init__(self, lr, n_iteration):\n",
        "    self.lr = lr\n",
        "    self.n_iteration = n_iteration\n",
        "    self.weight = None\n",
        "    self.bias = None\n",
        "\n",
        "  def sigmoid(self,x):\n",
        "    x = np.float128(x)\n",
        "    return 1 / (1 + np.exp(-x))\n",
        "\n",
        "  def fit(self,X,y):\n",
        "    n_samples, n_features = X.shape\n",
        "    self.weights = np.zeros(n_features)\n",
        "    self.bias = 0\n",
        "    for _ in range(self.n_iteration):\n",
        "      linear_pred = np.dot(X, self.weights) + self.bias\n",
        "      predictions = self.sigmoid(linear_pred)\n",
        "      dw = (1 / n_samples) * np.dot(X.T, (predictions - y))\n",
        "      db  = (1 / n_samples) * np.sum(predictions - y)\n",
        "      self.weights = self.weights - (self.lr * dw)\n",
        "      self.bias = self.bias - (self.lr - db)\n",
        "\n",
        "  def prediction(self, X):\n",
        "    linear_pred = np.dot(X, self.weights) + self.bias\n",
        "    y_prediction = self.sigmoid(linear_pred)\n",
        "    class_pred = [0 if y<=0.5 else 1 for y in y_prediction]\n",
        "    return class_pred\n",
        "\n"
      ],
      "metadata": {
        "id": "XqS_P2bGsLZb"
      },
      "execution_count": 28,
      "outputs": []
    },
    {
      "cell_type": "code",
      "source": [
        "def accuracy(y_pred, y_test):\n",
        "  return np.sum(y_pred == y_test) / len(y_test)"
      ],
      "metadata": {
        "id": "Pmy1vk7RH0EA"
      },
      "execution_count": 29,
      "outputs": []
    },
    {
      "cell_type": "code",
      "source": [
        "bc = datasets.load_breast_cancer()\n",
        "X, y = bc.data, bc.target\n",
        "X_train, X_test, y_train, y_test = train_test_split(X, y, test_size = 0.25, random_state = 1234)"
      ],
      "metadata": {
        "id": "Z5i8fHpc7Vc0"
      },
      "execution_count": 30,
      "outputs": []
    },
    {
      "cell_type": "code",
      "source": [
        "clf = LogisticRegression(lr = 0.01, n_iteration = 1000)\n",
        "clf.fit(X_train, y_train)"
      ],
      "metadata": {
        "id": "Rb3zc3-hGhHA"
      },
      "execution_count": 31,
      "outputs": []
    },
    {
      "cell_type": "code",
      "source": [
        "y_pred = clf.prediction(X_test)\n",
        "print(y_pred)"
      ],
      "metadata": {
        "colab": {
          "base_uri": "https://localhost:8080/"
        },
        "id": "Ij7azbGvG041",
        "outputId": "8768ccbe-5cdd-45e5-8f1b-23ca9460a578"
      },
      "execution_count": 32,
      "outputs": [
        {
          "output_type": "stream",
          "name": "stdout",
          "text": [
            "[1, 1, 1, 1, 1, 1, 0, 1, 0, 0, 0, 0, 1, 0, 1, 0, 1, 1, 1, 0, 1, 0, 0, 0, 0, 0, 0, 1, 1, 1, 1, 1, 0, 1, 1, 1, 1, 0, 0, 1, 0, 1, 0, 0, 1, 1, 1, 0, 0, 0, 1, 1, 1, 0, 0, 1, 1, 1, 1, 0, 1, 1, 1, 1, 1, 0, 0, 1, 1, 0, 1, 0, 1, 1, 0, 1, 1, 0, 1, 0, 1, 1, 0, 1, 0, 0, 0, 0, 0, 1, 1, 0, 1, 0, 0, 1, 1, 1, 1, 1, 0, 0, 1, 1, 0, 1, 1, 0, 0, 1, 0, 0, 0, 0, 0, 1, 1, 0, 1, 1, 1, 0, 1, 1, 0, 1, 0, 0, 1, 1, 0, 1, 0, 1, 0, 1, 0, 1, 1, 0, 1, 0, 0]\n"
          ]
        }
      ]
    },
    {
      "cell_type": "code",
      "source": [
        "print(accuracy(y_pred, y_test))"
      ],
      "metadata": {
        "colab": {
          "base_uri": "https://localhost:8080/"
        },
        "id": "lCRE8G-5IKec",
        "outputId": "b1a915fc-f7c0-4cf5-cd09-68e95655d9bc"
      },
      "execution_count": 33,
      "outputs": [
        {
          "output_type": "stream",
          "name": "stdout",
          "text": [
            "0.8811188811188811\n"
          ]
        }
      ]
    },
    {
      "cell_type": "code",
      "source": [],
      "metadata": {
        "id": "PcgL54HuIaIr"
      },
      "execution_count": null,
      "outputs": []
    }
  ]
}