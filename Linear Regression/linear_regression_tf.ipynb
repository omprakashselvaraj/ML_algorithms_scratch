{
  "nbformat": 4,
  "nbformat_minor": 0,
  "metadata": {
    "colab": {
      "provenance": []
    },
    "kernelspec": {
      "name": "python3",
      "display_name": "Python 3"
    },
    "language_info": {
      "name": "python"
    }
  },
  "cells": [
    {
      "cell_type": "markdown",
      "source": [
        "##***Implementation of linear regression using tensorflow with gradient tape.***##\n",
        "Let the equation of straight line be y = (m * x) + c. Let y = (5 * x) + 3"
      ],
      "metadata": {
        "id": "Yyy5jWOYJSQj"
      }
    },
    {
      "cell_type": "code",
      "execution_count": null,
      "metadata": {
        "colab": {
          "base_uri": "https://localhost:8080/"
        },
        "id": "XKf-G15fFTpS",
        "outputId": "386df3a4-6be0-4263-c418-62a89aae1380"
      },
      "outputs": [
        {
          "output_type": "stream",
          "name": "stdout",
          "text": [
            "2.13.0\n"
          ]
        }
      ],
      "source": [
        "import numpy as np\n",
        "import matplotlib.pyplot as plt\n",
        "import tensorflow as tf\n",
        "print(tf.__version__)"
      ]
    },
    {
      "cell_type": "markdown",
      "source": [
        "***Training Data Generation***\n",
        "\n",
        "\n",
        "\n"
      ],
      "metadata": {
        "id": "Lup3TwuSKSu2"
      }
    },
    {
      "cell_type": "code",
      "source": [
        "# Training Data\n",
        "X_train = tf.constant(range(10), dtype = 'float32')\n",
        "y_train = (5 * X) + 3\n",
        "print(f\"X_train: {X_train}\")\n",
        "print(f\"y_train: {y_train}\")"
      ],
      "metadata": {
        "colab": {
          "base_uri": "https://localhost:8080/"
        },
        "id": "Wgb0evq_FkIo",
        "outputId": "38f03384-4f8d-44a2-aa6b-8aecaddc53ea"
      },
      "execution_count": null,
      "outputs": [
        {
          "output_type": "stream",
          "name": "stdout",
          "text": [
            "X_train: [0. 1. 2. 3. 4. 5. 6. 7. 8. 9.]\n",
            "y_train: [ 3.  8. 13. 18. 23. 28. 33. 38. 43. 48.]\n"
          ]
        }
      ]
    },
    {
      "cell_type": "markdown",
      "source": [
        "***Test Data Generation***"
      ],
      "metadata": {
        "id": "P88fKg_KL8uD"
      }
    },
    {
      "cell_type": "code",
      "source": [
        "X_test = tf.constant(range(10,20), dtype = 'float32')\n",
        "y_test = (5 * X_test) + 3\n",
        "print(f\"X_test: {X_test}\")\n",
        "print(f\"y_test: {y_test}\")"
      ],
      "metadata": {
        "colab": {
          "base_uri": "https://localhost:8080/"
        },
        "id": "fYnwVQ3ULdOu",
        "outputId": "75681ab1-43c4-4ace-9956-d285438d16b7"
      },
      "execution_count": null,
      "outputs": [
        {
          "output_type": "stream",
          "name": "stdout",
          "text": [
            "X_test: [10. 11. 12. 13. 14. 15. 16. 17. 18. 19.]\n",
            "y_test: [53. 58. 63. 68. 73. 78. 83. 88. 93. 98.]\n"
          ]
        }
      ]
    },
    {
      "cell_type": "code",
      "source": [
        "plt.scatter(X_train, y_train)"
      ],
      "metadata": {
        "colab": {
          "base_uri": "https://localhost:8080/",
          "height": 450
        },
        "id": "GjysuL-pMU__",
        "outputId": "a4029c38-cc4c-46d7-db1c-88e5ab91acd6"
      },
      "execution_count": null,
      "outputs": [
        {
          "output_type": "execute_result",
          "data": {
            "text/plain": [
              "<matplotlib.collections.PathCollection at 0x7d96740fbc10>"
            ]
          },
          "metadata": {},
          "execution_count": 11
        },
        {
          "output_type": "display_data",
          "data": {
            "text/plain": [
              "<Figure size 640x480 with 1 Axes>"
            ],
            "image/png": "[encoded data removed]"
          },
          "metadata": {}
        }
      ]
    },
    {
      "cell_type": "code",
      "source": [],
      "metadata": {
        "id": "3cZi7R0bQcfv"
      },
      "execution_count": null,
      "outputs": []
    },
    {
      "cell_type": "markdown",
      "source": [
        "***Baseline Model.. Predict mean as solution***"
      ],
      "metadata": {
        "id": "_471Sm6wUbpV"
      }
    },
    {
      "cell_type": "code",
      "source": [
        "def predict(X_train, y_train):\n",
        "  y_mean = y_train.numpy().mean()\n",
        "  y_pred = [y_mean] * len(X_train)\n",
        "  return y_pred\n",
        "\n",
        "def compute_mse(y_pred, y_train):\n",
        "  errors = (y_train - y_pred) ** 2\n",
        "  return tf.reduce_mean(errors)"
      ],
      "metadata": {
        "id": "lXzlNHgQUiEM"
      },
      "execution_count": null,
      "outputs": []
    },
    {
      "cell_type": "code",
      "source": [
        "y_pred = predict(X_train, y_train)\n",
        "loss = compute_mse(y_pred, y_test)\n",
        "print(loss.numpy())"
      ],
      "metadata": {
        "colab": {
          "base_uri": "https://localhost:8080/"
        },
        "id": "P8ar-gxjU3x3",
        "outputId": "fd3d8b5f-9bf9-4e9e-a6b2-87ac067e2354"
      },
      "execution_count": null,
      "outputs": [
        {
          "output_type": "stream",
          "name": "stdout",
          "text": [
            "2706.25\n"
          ]
        }
      ]
    },
    {
      "cell_type": "markdown",
      "source": [
        "***Linear Regression Model***"
      ],
      "metadata": {
        "id": "oZ_NSMXmWf1D"
      }
    },
    {
      "cell_type": "code",
      "source": [
        "def compute_mse_linear(X_train, y_train, m, c):\n",
        "  y_pred = (m * X_train) + c\n",
        "  errors = (y - y_pred) ** 2\n",
        "  return tf.reduce_mean(errors)\n",
        "\n",
        "def compute_gradient(X_train, y_train, m, c):\n",
        "  with tf.GradientTape() as tape:\n",
        "    loss = compute_mse_linear(X_train, y_train, m, c)\n",
        "  return tape.gradient(loss, [m,c])"
      ],
      "metadata": {
        "id": "1UjqLOKgV9L3"
      },
      "execution_count": null,
      "outputs": []
    },
    {
      "cell_type": "code",
      "source": [
        "m = tf.Variable(0.0)\n",
        "c = tf.Variable(0.0)\n",
        "d_m , d_c = compute_gradient(X_train, y_train, m, c)\n",
        "print(f\"d_m: {d_m}\")\n",
        "print(f\"d_c: {d_c}\")"
      ],
      "metadata": {
        "colab": {
          "base_uri": "https://localhost:8080/"
        },
        "id": "MrFVpr8_YYQI",
        "outputId": "ea8ab0df-f526-4769-f0db-b316e1c6dccb"
      },
      "execution_count": null,
      "outputs": [
        {
          "output_type": "stream",
          "name": "stdout",
          "text": [
            "d_m: -312.0\n",
            "d_c: -51.0\n"
          ]
        }
      ]
    },
    {
      "cell_type": "code",
      "source": [
        "steps = 10\n",
        "lr = 0.01\n",
        "\n",
        "m = tf.Variable(0.0)\n",
        "c = tf.Variable(0.0)\n",
        "\n",
        "for step in range(0, steps + 1):\n",
        "  d_m , d_c = compute_gradient(X_train, y_train, m, c)\n",
        "  m.assign_sub(d_m * lr)\n",
        "  c.assign_sub(d_c * lr)\n",
        "\n",
        "  loss = compute_mse_linear(X_train, y_train, m, c)\n",
        "  msg = f\"Epoch {step} - loss: {loss}, m: {m}, c: {c} \\n\"\n",
        "  print(msg)\n"
      ],
      "metadata": {
        "colab": {
          "base_uri": "https://localhost:8080/"
        },
        "id": "hN824LMJYwvR",
        "outputId": "b42a1a3d-49a6-46f5-b1d2-d2147ca63c0c"
      },
      "execution_count": null,
      "outputs": [
        {
          "output_type": "stream",
          "name": "stdout",
          "text": [
            "Epoch 0 - loss: 149.06130981445312, m: <tf.Variable 'Variable:0' shape=() dtype=float32, numpy=3.12>, c: <tf.Variable 'Variable:0' shape=() dtype=float32, numpy=0.51> \n",
            "\n",
            "Epoch 1 - loss: 26.830036163330078, m: <tf.Variable 'Variable:0' shape=() dtype=float32, numpy=4.4157>, c: <tf.Variable 'Variable:0' shape=() dtype=float32, numpy=0.729> \n",
            "\n",
            "Epoch 2 - loss: 5.700891017913818, m: <tf.Variable 'Variable:0' shape=() dtype=float32, numpy=4.953141>, c: <tf.Variable 'Variable:0' shape=() dtype=float32, numpy=0.827007> \n",
            "\n",
            "Epoch 3 - loss: 2.038567066192627, m: <tf.Variable 'Variable:0' shape=() dtype=float32, numpy=5.1754203>, c: <tf.Variable 'Variable:0' shape=() dtype=float32, numpy=0.87468415> \n",
            "\n",
            "Epoch 4 - loss: 1.393986463546753, m: <tf.Variable 'Variable:0' shape=() dtype=float32, numpy=5.2667093>, c: <tf.Variable 'Variable:0' shape=() dtype=float32, numpy=0.90140265> \n",
            "\n",
            "Epoch 5 - loss: 1.2708947658538818, m: <tf.Variable 'Variable:0' shape=() dtype=float32, numpy=5.303559>, c: <tf.Variable 'Variable:0' shape=() dtype=float32, numpy=0.9193708> \n",
            "\n",
            "Epoch 6 - loss: 1.2380280494689941, m: <tf.Variable 'Variable:0' shape=() dtype=float32, numpy=5.3177867>, c: <tf.Variable 'Variable:0' shape=() dtype=float32, numpy=0.9336631> \n",
            "\n",
            "Epoch 7 - loss: 1.2208786010742188, m: <tf.Variable 'Variable:0' shape=() dtype=float32, numpy=5.3226185>, c: <tf.Variable 'Variable:0' shape=() dtype=float32, numpy=0.946389> \n",
            "\n",
            "Epoch 8 - loss: 1.2065753936767578, m: <tf.Variable 'Variable:0' shape=() dtype=float32, numpy=5.323551>, c: <tf.Variable 'Variable:0' shape=() dtype=float32, numpy=0.9584256> \n",
            "\n",
            "Epoch 9 - loss: 1.1928902864456177, m: <tf.Variable 'Variable:0' shape=() dtype=float32, numpy=5.322869>, c: <tf.Variable 'Variable:0' shape=() dtype=float32, numpy=0.9701375> \n",
            "\n",
            "Epoch 10 - loss: 1.1794391870498657, m: <tf.Variable 'Variable:0' shape=() dtype=float32, numpy=5.3215213>, c: <tf.Variable 'Variable:0' shape=() dtype=float32, numpy=0.9816765> \n",
            "\n"
          ]
        }
      ]
    },
    {
      "cell_type": "code",
      "source": [
        "print(f\"slope(m): {m}, intercept(c): {c}\")"
      ],
      "metadata": {
        "colab": {
          "base_uri": "https://localhost:8080/"
        },
        "id": "NpPjGw3oad1O",
        "outputId": "7ed9bc7c-0645-4b8b-8346-15dfeaf3c543"
      },
      "execution_count": null,
      "outputs": [
        {
          "output_type": "stream",
          "name": "stdout",
          "text": [
            "slope(m): <tf.Variable 'Variable:0' shape=() dtype=float32, numpy=5.3215213>, intercept(c): <tf.Variable 'Variable:0' shape=() dtype=float32, numpy=0.9816765>\n"
          ]
        }
      ]
    }
  ]
}